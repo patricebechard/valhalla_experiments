{
 "cells": [
  {
   "cell_type": "markdown",
   "metadata": {},
   "source": [
    "# Valhalla Experiments\n",
    "\n",
    "We try Valhalla and its Python bindings on the data provided by [Microsoft](https://www.microsoft.com/en-us/research/publication/hidden-markov-map-matching-noise-sparseness/). Valhalla is an open source routing system allowing us to do map matching and linear referencing at the same time. We want to compare this approach with OSRM/OSMNX which causes quite a lot of problems."
   ]
  },
  {
   "cell_type": "markdown",
   "metadata": {},
   "source": [
    "#### Importing packages"
   ]
  },
  {
   "cell_type": "code",
   "execution_count": 1,
   "metadata": {},
   "outputs": [],
   "source": [
    "import os\n",
    "import sys\n",
    "import urllib\n",
    "import json\n",
    "import time\n",
    "\n",
    "sys.path.append('/usr/local/lib/python3.6/site-packages')\n",
    "\n",
    "import valhalla\n",
    "import pandas as pd\n",
    "import matplotlib.pyplot as plt"
   ]
  },
  {
   "cell_type": "markdown",
   "metadata": {},
   "source": [
    "#### URL of Microsoft data"
   ]
  },
  {
   "cell_type": "code",
   "execution_count": 2,
   "metadata": {},
   "outputs": [],
   "source": [
    "gps_data_url = \"https://www.microsoft.com/en-us/research/uploads/prod/2017/07/gps_data.txt\"\n",
    "road_network_url = \"https://www.microsoft.com/en-us/research/uploads/prod/2017/07/road_network.zip\"\n",
    "ground_truth_url = \"https://www.microsoft.com/en-us/research/uploads/prod/2017/07/ground_truth_route.txt\""
   ]
  },
  {
   "cell_type": "markdown",
   "metadata": {},
   "source": [
    "#### Functions"
   ]
  },
  {
   "cell_type": "code",
   "execution_count": 3,
   "metadata": {},
   "outputs": [],
   "source": [
    "def read_gps_data(data_path, verbose=False):\n",
    "    with open(data_path) as f:\n",
    "\n",
    "        # skip header\n",
    "        f.readline()\n",
    "        coords = []\n",
    "\n",
    "        for line in f:\n",
    "            coord = line.strip().split('\\t')[2:]\n",
    "            coords.append([float(elem) for elem in coord])\n",
    "    \n",
    "    if verbose:\n",
    "        print(\"Length of trip : %d\" % (len(coords)))        \n",
    "    \n",
    "    return coords\n",
    "    "
   ]
  },
  {
   "cell_type": "code",
   "execution_count": 4,
   "metadata": {},
   "outputs": [],
   "source": [
    "def create_query(coords, costing=\"auto\", shape_match=\"walk_or_snap\"):\n",
    "\n",
    "    filters = {\"attributes\": [\"matched.point\",\n",
    "                              \"matched.type\",\n",
    "                              \"matched.edge_index\",\n",
    "                              \"matched.distance_along_edge\",\n",
    "                              \"matched.distance_from_trace_point\"],\n",
    "               \"action\": \"include\"}\n",
    "\n",
    "    query = {}\n",
    "    query[\"costing\"] = costing\n",
    "    query[\"shape_match\"] = shape_match\n",
    "    query[\"filters\"] = filters\n",
    "\n",
    "    query[\"shape\"] = [{\"lat\": pt[0], \"lon\": pt[1]} for pt in coords]\n",
    "\n",
    "    return query\n"
   ]
  },
  {
   "cell_type": "code",
   "execution_count": 5,
   "metadata": {},
   "outputs": [],
   "source": [
    "def make_valhalla_mapmatch_query(coords, return_time=False, verbose=False):\n",
    "    \n",
    "    start = time.time()\n",
    "    \n",
    "    query = json.dumps(create_query(coords))\n",
    "    valhalla.Configure('./valhalla.json')\n",
    "    actor = valhalla.Actor()\n",
    "    response = actor.TraceAttributes(query)\n",
    "    matched = json.loads(response)\n",
    "    \n",
    "    if verbose:\n",
    "        print(\"Time taken for Map Matching : %.3f\" % (time.time() - start))\n",
    "\n",
    "    if return_time:\n",
    "        return matched, time.time() - start\n",
    "    else:\n",
    "        return matched"
   ]
  },
  {
   "cell_type": "code",
   "execution_count": 6,
   "metadata": {},
   "outputs": [],
   "source": [
    "def parse_response(matched, verbose=False):\n",
    "    \n",
    "    columns = [\"mm_lon\", \"mm_lat\", \"edge_id\", \"pos\", \"dev\", \"type\"]\n",
    "    \n",
    "    matched_trip = []\n",
    "    n_matched = 0\n",
    "    n_pts = 0\n",
    "    \n",
    "    for pt in matched[\"matched_points\"]:\n",
    "        \n",
    "        n_pts += 1\n",
    "        if pt[\"type\"] == \"unmatched\":\n",
    "            continue\n",
    "        \n",
    "        matched_trip.append([pt[\"lon\"], \n",
    "                             pt[\"lat\"],\n",
    "                             pt[\"edge_index\"],\n",
    "                             pt[\"distance_along_edge\"],\n",
    "                             pt[\"distance_from_trace_point\"],\n",
    "                             pt[\"type\"]])            \n",
    "        n_matched += 1\n",
    "\n",
    "    if verbose:\n",
    "        print(\"Map Matching Accuracy : %.2f\" % (n_matched / n_pts))\n",
    "    \n",
    "    return pd.DataFrame(matched_trip, columns=columns)"
   ]
  },
  {
   "cell_type": "markdown",
   "metadata": {},
   "source": [
    "## Main"
   ]
  },
  {
   "cell_type": "code",
   "execution_count": 7,
   "metadata": {},
   "outputs": [
    {
     "name": "stdout",
     "output_type": "stream",
     "text": [
      "Length of trip : 7531\n"
     ]
    }
   ],
   "source": [
    "# Loading GPS Data\n",
    "data_path = \"data/gps_data.txt\"\n",
    "coords = read_gps_data(data_path, verbose=True)"
   ]
  },
  {
   "cell_type": "code",
   "execution_count": 8,
   "metadata": {},
   "outputs": [
    {
     "name": "stdout",
     "output_type": "stream",
     "text": [
      "Time taken for Map Matching : 0.373\n"
     ]
    }
   ],
   "source": [
    "# Map Matching\n",
    "matched = make_valhalla_mapmatch_query(coords, verbose=True)"
   ]
  },
  {
   "cell_type": "code",
   "execution_count": 9,
   "metadata": {},
   "outputs": [
    {
     "name": "stdout",
     "output_type": "stream",
     "text": [
      "Map Matching Accuracy : 0.99\n"
     ]
    }
   ],
   "source": [
    "# Parse Map Matching Response\n",
    "parsed_df = parse_response(matched, verbose=True)"
   ]
  },
  {
   "cell_type": "code",
   "execution_count": 10,
   "metadata": {},
   "outputs": [
    {
     "data": {
      "image/png": "[encoded data removed]",
      "text/plain": [
       "<matplotlib.figure.Figure at 0x7f92251dda58>"
      ]
     },
     "metadata": {
      "needs_background": "light"
     },
     "output_type": "display_data"
    }
   ],
   "source": [
    "# time as a function of trip length\n",
    "\n",
    "time_taken_arr = []\n",
    "trip_length_arr = []\n",
    "\n",
    "for trip_length in range(100, 7000, 100):\n",
    "    \n",
    "    _, time_taken = make_valhalla_mapmatch_query(coords[:trip_length], return_time=True)\n",
    "    \n",
    "    trip_length_arr.append(trip_length)\n",
    "    time_taken_arr.append(time_taken)\n",
    "    \n",
    "plt.plot(trip_length_arr, time_taken_arr)\n",
    "plt.xlabel(\"Trip Length (s)\")\n",
    "plt.ylabel(\"Time taken for map matching (s)\")\n",
    "plt.show()"
   ]
  },
  {
   "cell_type": "code",
   "execution_count": null,
   "metadata": {},
   "outputs": [],
   "source": []
  }
 ],
 "metadata": {
  "kernelspec": {
   "display_name": "Python 3",
   "language": "python",
   "name": "python3"
  },
  "language_info": {
   "codemirror_mode": {
    "name": "ipython",
    "version": 3
   },
   "file_extension": ".py",
   "mimetype": "text/x-python",
   "name": "python",
   "nbconvert_exporter": "python",
   "pygments_lexer": "ipython3",
   "version": "3.6.4"
  }
 },
 "nbformat": 4,
 "nbformat_minor": 2
}
